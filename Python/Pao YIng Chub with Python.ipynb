{
 "cells":[
  {
   "cell_type":"code",
   "source":[
    "import random\n",
    "\n",
    "def play_game():\n",
    "    choices = [\"scissor\", \"rock\", \"paper\"]\n",
    "    user_score = 0\n",
    "    bot_score = 0\n",
    "    while True:\n",
    "        user_choice = input(\"Choose scissor, rock or paper (type 'quit' to exit): \")\n",
    "        bot_choice = random.choice(choices)\n",
    "\n",
    "        if user_choice.lower() == \"quit\":\n",
    "            print(\"Thanks for playing. Have a good day\")\n",
    "            break\n",
    "        \n",
    "        if user_choice not in choices:\n",
    "            print(\"Invalid choice. Please choose scissor, rock, or paper.\")\n",
    "            continue\n",
    "\n",
    "        print(f\"You chose {user_choice} and bot chose {bot_choice}\")\n",
    "        \n",
    "        if user_choice == bot_choice:\n",
    "            print(\"Draw\")\n",
    "        \n",
    "        elif (user_choice == \"rock\" and bot_choice == \"scissor\") or\\\n",
    "             (user_choice == \"scissor\" and bot_choice == \"paper\") or\\\n",
    "             (user_choice == \"paper\" and bot_choice == \"rock\"):\n",
    "            print(\"You win!\")\n",
    "            user_score += 1\n",
    "\n",
    "        else:\n",
    "            print(\"You lose. try again\")\n",
    "            bot_score += 1\n",
    "\n",
    "    # Check final scores\n",
    "    if user_score > bot_score:\n",
    "        print(f\"Your score is {user_score} and bot score is {bot_score} \\n You win the game!\")\n",
    "\n",
    "    elif user_score < bot_score:\n",
    "        print(f\"Your score is {user_score} and bot score is {bot_score} \\n You lose the game!\")\n",
    "    else:\n",
    "        print(f\"Your score is {user_score} and bot score is {bot_score} \\n It's a draw game!\")\n",
    "\n",
    "# call the function to play game!\n",
    "play_game()"
   ],
   "execution_count":2,
   "outputs":[
    {
     "name":"stdout",
     "text":[
      "Choose scissor, rock or paper (type 'quit' to exit):  paper\n",
      "You chose paper and bot chose rock\n",
      "You win!\n",
      "Choose scissor, rock or paper (type 'quit' to exit):  rock\n",
      "You chose rock and bot chose rock\n",
      "Draw\n",
      "Choose scissor, rock or paper (type 'quit' to exit):  scissor\n",
      "You chose scissor and bot chose scissor\n",
      "Draw\n",
      "Choose scissor, rock or paper (type 'quit' to exit):  test invalid\n",
      "Invalid choice. Please choose scissor, rock, or paper.\n",
      "Choose scissor, rock or paper (type 'quit' to exit):  paper\n",
      "You chose paper and bot chose rock\n",
      "You win!\n",
      "Choose scissor, rock or paper (type 'quit' to exit):  quit\n",
      "Thanks for playing. Have a good day\n",
      "Your score is 2 and bot score is 0 \n",
      " You win the game!\n"
     ],
     "output_type":"stream"
    }
   ],
   "metadata":{
    "datalore":{
     "node_id":"KE1XTSxWWsZp6rDnlTIb8f",
     "type":"CODE",
     "hide_input_from_viewers":true,
     "hide_output_from_viewers":true
    }
   }
  },
  {
   "cell_type":"code",
   "source":[
    
   ],
   "execution_count":null,
   "outputs":[
    
   ],
   "metadata":{
    "datalore":{
     "node_id":"3PshUTfU5MpzJKAJxavHYU",
     "type":"CODE",
     "hide_input_from_viewers":true,
     "hide_output_from_viewers":true
    }
   }
  }
 ],
 "metadata":{
  "kernelspec":{
   "display_name":"Python",
   "language":"python",
   "name":"python"
  },
  "datalore":{
   "computation_mode":"JUPYTER",
   "package_manager":"pip",
   "base_environment":"default",
   "packages":[
    
   ],
   "report_row_ids":[
    
   ],
   "version":3
  }
 },
 "nbformat":4,
 "nbformat_minor":4
}